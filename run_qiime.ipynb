{
 "cells": [
  {
   "cell_type": "markdown",
   "metadata": {},
   "source": [
    "# Run qiime2 in Binder\n",
    "\n",
    "Follow:\n",
    "https://docs.qiime2.org/2020.11/install/native/#install-qiime-2-within-a-conda-environment\n",
    "\n",
    "For q2 metabolomics\n",
    "https://github.com/mwang87/q2_metabolomics"
   ]
  },
  {
   "cell_type": "code",
   "execution_count": 1,
   "metadata": {},
   "outputs": [
    {
     "name": "stdout",
     "output_type": "stream",
     "text": [
      "Usage: \u001b[34mqiime\u001b[0m [OPTIONS] COMMAND [ARGS]...\r\n",
      "\r\n",
      "  QIIME 2 command-line interface (q2cli)\r\n",
      "  --------------------------------------\r\n",
      "\r\n",
      "  To get help with QIIME 2, visit https://qiime2.org.\r\n",
      "\r\n",
      "  To enable tab completion in Bash, run the following command or add it to\r\n",
      "  your .bashrc/.bash_profile:\r\n",
      "\r\n",
      "      source tab-qiime\r\n",
      "\r\n",
      "  To enable tab completion in ZSH, run the following commands or add them to\r\n",
      "  your .zshrc:\r\n",
      "\r\n",
      "      autoload bashcompinit && bashcompinit && source tab-qiime\r\n",
      "\r\n",
      "\u001b[1mOptions\u001b[0m:\r\n",
      "  \u001b[34m--version\u001b[0m   Show the version and exit.\r\n",
      "  \u001b[34m--help\u001b[0m      Show this message and exit.\r\n",
      "\r\n",
      "\u001b[1mCommands\u001b[0m:\r\n",
      "  \u001b[34minfo\u001b[0m                Display information about current deployment.\r\n",
      "  \u001b[34mtools\u001b[0m               Tools for working with QIIME 2 files.\r\n",
      "  \u001b[34mdev\u001b[0m                 Utilities for developers and advanced users.\r\n",
      "  \u001b[34malignment\u001b[0m           Plugin for generating and manipulating alignments.\r\n",
      "  \u001b[34mcomposition\u001b[0m         Plugin for compositional data analysis.\r\n",
      "  \u001b[34mcutadapt\u001b[0m            Plugin for removing adapter sequences, primers, and\r\n",
      "                      other unwanted sequence from sequence data.\r\n",
      "\r\n",
      "  \u001b[34mdada2\u001b[0m               Plugin for sequence quality control with DADA2.\r\n",
      "  \u001b[34mdeblur\u001b[0m              Plugin for sequence quality control with Deblur.\r\n",
      "  \u001b[34mdemux\u001b[0m               Plugin for demultiplexing & viewing sequence quality.\r\n",
      "  \u001b[34mdiversity\u001b[0m           Plugin for exploring community diversity.\r\n",
      "  \u001b[34mdiversity-lib\u001b[0m       Plugin for computing community diversity.\r\n",
      "  \u001b[34memperor\u001b[0m             Plugin for ordination plotting with Emperor.\r\n",
      "  \u001b[34mfeature-classifier\u001b[0m  Plugin for taxonomic classification.\r\n",
      "  \u001b[34mfeature-table\u001b[0m       Plugin for working with sample by feature tables.\r\n",
      "  \u001b[34mfragment-insertion\u001b[0m  Plugin for extending phylogenies.\r\n",
      "  \u001b[34mgneiss\u001b[0m              Plugin for building compositional models.\r\n",
      "  \u001b[34mlongitudinal\u001b[0m        Plugin for paired sample and time series analyses.\r\n",
      "  \u001b[34mmetabolomics\u001b[0m        Plugin for the creation of a biom feature table for\r\n",
      "                      metabolomics data.\r\n",
      "\r\n",
      "  \u001b[34mmetadata\u001b[0m            Plugin for working with Metadata.\r\n",
      "  \u001b[34mphylogeny\u001b[0m           Plugin for generating and manipulating phylogenies.\r\n",
      "  \u001b[34mquality-control\u001b[0m     Plugin for quality control of feature and sequence data.\r\n",
      "  \u001b[34mquality-filter\u001b[0m      Plugin for PHRED-based filtering and trimming.\r\n",
      "  \u001b[34msample-classifier\u001b[0m   Plugin for machine learning prediction of sample\r\n",
      "                      metadata.\r\n",
      "\r\n",
      "  \u001b[34mtaxa\u001b[0m                Plugin for working with feature taxonomy annotations.\r\n",
      "  \u001b[34mvsearch\u001b[0m             Plugin for clustering and dereplicating with vsearch.\r\n"
     ]
    }
   ],
   "source": [
    "!qiime"
   ]
  },
  {
   "cell_type": "code",
   "execution_count": null,
   "metadata": {},
   "outputs": [],
   "source": [
    "!qiime metabolomics import-gnpsnetworkingclusteringtask"
   ]
  }
 ],
 "metadata": {
  "kernelspec": {
   "display_name": "Python 3",
   "language": "python",
   "name": "python3"
  },
  "language_info": {
   "codemirror_mode": {
    "name": "ipython",
    "version": 3
   },
   "file_extension": ".py",
   "mimetype": "text/x-python",
   "name": "python",
   "nbconvert_exporter": "python",
   "pygments_lexer": "ipython3",
   "version": "3.6.12"
  }
 },
 "nbformat": 4,
 "nbformat_minor": 4
}
